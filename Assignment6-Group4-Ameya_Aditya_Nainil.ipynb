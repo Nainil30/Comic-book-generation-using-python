{
 "cells": [
  {
   "cell_type": "markdown",
   "metadata": {},
   "source": [
    "<div id=\"divCheckbox\" style=\"display: none;\">\n",
    "\"20102020\"[::-1]\n",
    "</div>"
   ]
  },
  {
   "cell_type": "markdown",
   "metadata": {},
   "source": [
    "<div style=\"text-align: right\">INFO 6105 Data Science Eng Methods and Tools</div>\n",
    "<div style=\"text-align: right\">Ameya Apte (NUID 002764540), Aditya Sawant (NUID 002762104), Nainil Maladkar (NUID 002780019)</div>\n",
    "\n",
    "# Assignment 6"
   ]
  },
  {
   "cell_type": "markdown",
   "metadata": {},
   "source": [
    "Lets import the required libraries first"
   ]
  },
  {
   "cell_type": "code",
   "execution_count": 1,
   "metadata": {},
   "outputs": [],
   "source": [
    "import pandas as pd\n",
    "import math\n",
    "import numpy as np\n",
    "import matplotlib.pyplot as plt\n",
    "%matplotlib inline"
   ]
  },
  {
   "cell_type": "markdown",
   "metadata": {},
   "source": [
    "We take into consideration the IPL cricket dataset for our analysis here. <br>\n",
    "The dataset can be found at : https://www.kaggle.com/datasets/nowke9/ipldata\n",
    "\n",
    "From this dataset, we would consider the `win_by_wickets` column"
   ]
  },
  {
   "cell_type": "markdown",
   "metadata": {},
   "source": [
    "Lets first read the data from the csv file using the `read_csv` function from `pandas`"
   ]
  },
  {
   "cell_type": "code",
   "execution_count": 2,
   "metadata": {},
   "outputs": [],
   "source": [
    "ipl_data = pd.read_csv(\"matches.csv\")"
   ]
  },
  {
   "cell_type": "markdown",
   "metadata": {},
   "source": [
    "Lets check the data using `head()` and `tail()`"
   ]
  },
  {
   "cell_type": "code",
   "execution_count": 3,
   "metadata": {},
   "outputs": [
    {
     "data": {
      "text/html": [
       "<div>\n",
       "<style scoped>\n",
       "    .dataframe tbody tr th:only-of-type {\n",
       "        vertical-align: middle;\n",
       "    }\n",
       "\n",
       "    .dataframe tbody tr th {\n",
       "        vertical-align: top;\n",
       "    }\n",
       "\n",
       "    .dataframe thead th {\n",
       "        text-align: right;\n",
       "    }\n",
       "</style>\n",
       "<table border=\"1\" class=\"dataframe\">\n",
       "  <thead>\n",
       "    <tr style=\"text-align: right;\">\n",
       "      <th></th>\n",
       "      <th>id</th>\n",
       "      <th>season</th>\n",
       "      <th>city</th>\n",
       "      <th>date</th>\n",
       "      <th>team1</th>\n",
       "      <th>team2</th>\n",
       "      <th>toss_winner</th>\n",
       "      <th>toss_decision</th>\n",
       "      <th>result</th>\n",
       "      <th>dl_applied</th>\n",
       "      <th>winner</th>\n",
       "      <th>win_by_runs</th>\n",
       "      <th>win_by_wickets</th>\n",
       "      <th>player_of_match</th>\n",
       "      <th>venue</th>\n",
       "      <th>umpire1</th>\n",
       "      <th>umpire2</th>\n",
       "      <th>umpire3</th>\n",
       "    </tr>\n",
       "  </thead>\n",
       "  <tbody>\n",
       "    <tr>\n",
       "      <th>0</th>\n",
       "      <td>1</td>\n",
       "      <td>2017</td>\n",
       "      <td>Hyderabad</td>\n",
       "      <td>2017-04-05</td>\n",
       "      <td>Sunrisers Hyderabad</td>\n",
       "      <td>Royal Challengers Bangalore</td>\n",
       "      <td>Royal Challengers Bangalore</td>\n",
       "      <td>field</td>\n",
       "      <td>normal</td>\n",
       "      <td>0</td>\n",
       "      <td>Sunrisers Hyderabad</td>\n",
       "      <td>35</td>\n",
       "      <td>0</td>\n",
       "      <td>Yuvraj Singh</td>\n",
       "      <td>Rajiv Gandhi International Stadium, Uppal</td>\n",
       "      <td>AY Dandekar</td>\n",
       "      <td>NJ Llong</td>\n",
       "      <td>NaN</td>\n",
       "    </tr>\n",
       "    <tr>\n",
       "      <th>1</th>\n",
       "      <td>2</td>\n",
       "      <td>2017</td>\n",
       "      <td>Pune</td>\n",
       "      <td>2017-04-06</td>\n",
       "      <td>Mumbai Indians</td>\n",
       "      <td>Rising Pune Supergiant</td>\n",
       "      <td>Rising Pune Supergiant</td>\n",
       "      <td>field</td>\n",
       "      <td>normal</td>\n",
       "      <td>0</td>\n",
       "      <td>Rising Pune Supergiant</td>\n",
       "      <td>0</td>\n",
       "      <td>7</td>\n",
       "      <td>SPD Smith</td>\n",
       "      <td>Maharashtra Cricket Association Stadium</td>\n",
       "      <td>A Nand Kishore</td>\n",
       "      <td>S Ravi</td>\n",
       "      <td>NaN</td>\n",
       "    </tr>\n",
       "    <tr>\n",
       "      <th>2</th>\n",
       "      <td>3</td>\n",
       "      <td>2017</td>\n",
       "      <td>Rajkot</td>\n",
       "      <td>2017-04-07</td>\n",
       "      <td>Gujarat Lions</td>\n",
       "      <td>Kolkata Knight Riders</td>\n",
       "      <td>Kolkata Knight Riders</td>\n",
       "      <td>field</td>\n",
       "      <td>normal</td>\n",
       "      <td>0</td>\n",
       "      <td>Kolkata Knight Riders</td>\n",
       "      <td>0</td>\n",
       "      <td>10</td>\n",
       "      <td>CA Lynn</td>\n",
       "      <td>Saurashtra Cricket Association Stadium</td>\n",
       "      <td>Nitin Menon</td>\n",
       "      <td>CK Nandan</td>\n",
       "      <td>NaN</td>\n",
       "    </tr>\n",
       "    <tr>\n",
       "      <th>3</th>\n",
       "      <td>4</td>\n",
       "      <td>2017</td>\n",
       "      <td>Indore</td>\n",
       "      <td>2017-04-08</td>\n",
       "      <td>Rising Pune Supergiant</td>\n",
       "      <td>Kings XI Punjab</td>\n",
       "      <td>Kings XI Punjab</td>\n",
       "      <td>field</td>\n",
       "      <td>normal</td>\n",
       "      <td>0</td>\n",
       "      <td>Kings XI Punjab</td>\n",
       "      <td>0</td>\n",
       "      <td>6</td>\n",
       "      <td>GJ Maxwell</td>\n",
       "      <td>Holkar Cricket Stadium</td>\n",
       "      <td>AK Chaudhary</td>\n",
       "      <td>C Shamshuddin</td>\n",
       "      <td>NaN</td>\n",
       "    </tr>\n",
       "    <tr>\n",
       "      <th>4</th>\n",
       "      <td>5</td>\n",
       "      <td>2017</td>\n",
       "      <td>Bangalore</td>\n",
       "      <td>2017-04-08</td>\n",
       "      <td>Royal Challengers Bangalore</td>\n",
       "      <td>Delhi Daredevils</td>\n",
       "      <td>Royal Challengers Bangalore</td>\n",
       "      <td>bat</td>\n",
       "      <td>normal</td>\n",
       "      <td>0</td>\n",
       "      <td>Royal Challengers Bangalore</td>\n",
       "      <td>15</td>\n",
       "      <td>0</td>\n",
       "      <td>KM Jadhav</td>\n",
       "      <td>M Chinnaswamy Stadium</td>\n",
       "      <td>NaN</td>\n",
       "      <td>NaN</td>\n",
       "      <td>NaN</td>\n",
       "    </tr>\n",
       "  </tbody>\n",
       "</table>\n",
       "</div>"
      ],
      "text/plain": [
       "   id  season       city        date                        team1  \\\n",
       "0   1    2017  Hyderabad  2017-04-05          Sunrisers Hyderabad   \n",
       "1   2    2017       Pune  2017-04-06               Mumbai Indians   \n",
       "2   3    2017     Rajkot  2017-04-07                Gujarat Lions   \n",
       "3   4    2017     Indore  2017-04-08       Rising Pune Supergiant   \n",
       "4   5    2017  Bangalore  2017-04-08  Royal Challengers Bangalore   \n",
       "\n",
       "                         team2                  toss_winner toss_decision  \\\n",
       "0  Royal Challengers Bangalore  Royal Challengers Bangalore         field   \n",
       "1       Rising Pune Supergiant       Rising Pune Supergiant         field   \n",
       "2        Kolkata Knight Riders        Kolkata Knight Riders         field   \n",
       "3              Kings XI Punjab              Kings XI Punjab         field   \n",
       "4             Delhi Daredevils  Royal Challengers Bangalore           bat   \n",
       "\n",
       "   result  dl_applied                       winner  win_by_runs  \\\n",
       "0  normal           0          Sunrisers Hyderabad           35   \n",
       "1  normal           0       Rising Pune Supergiant            0   \n",
       "2  normal           0        Kolkata Knight Riders            0   \n",
       "3  normal           0              Kings XI Punjab            0   \n",
       "4  normal           0  Royal Challengers Bangalore           15   \n",
       "\n",
       "   win_by_wickets player_of_match                                      venue  \\\n",
       "0               0    Yuvraj Singh  Rajiv Gandhi International Stadium, Uppal   \n",
       "1               7       SPD Smith    Maharashtra Cricket Association Stadium   \n",
       "2              10         CA Lynn     Saurashtra Cricket Association Stadium   \n",
       "3               6      GJ Maxwell                     Holkar Cricket Stadium   \n",
       "4               0       KM Jadhav                      M Chinnaswamy Stadium   \n",
       "\n",
       "          umpire1        umpire2 umpire3  \n",
       "0     AY Dandekar       NJ Llong     NaN  \n",
       "1  A Nand Kishore         S Ravi     NaN  \n",
       "2     Nitin Menon      CK Nandan     NaN  \n",
       "3    AK Chaudhary  C Shamshuddin     NaN  \n",
       "4             NaN            NaN     NaN  "
      ]
     },
     "execution_count": 3,
     "metadata": {},
     "output_type": "execute_result"
    }
   ],
   "source": [
    "ipl_data.head()"
   ]
  },
  {
   "cell_type": "code",
   "execution_count": 4,
   "metadata": {},
   "outputs": [
    {
     "data": {
      "text/html": [
       "<div>\n",
       "<style scoped>\n",
       "    .dataframe tbody tr th:only-of-type {\n",
       "        vertical-align: middle;\n",
       "    }\n",
       "\n",
       "    .dataframe tbody tr th {\n",
       "        vertical-align: top;\n",
       "    }\n",
       "\n",
       "    .dataframe thead th {\n",
       "        text-align: right;\n",
       "    }\n",
       "</style>\n",
       "<table border=\"1\" class=\"dataframe\">\n",
       "  <thead>\n",
       "    <tr style=\"text-align: right;\">\n",
       "      <th></th>\n",
       "      <th>id</th>\n",
       "      <th>season</th>\n",
       "      <th>city</th>\n",
       "      <th>date</th>\n",
       "      <th>team1</th>\n",
       "      <th>team2</th>\n",
       "      <th>toss_winner</th>\n",
       "      <th>toss_decision</th>\n",
       "      <th>result</th>\n",
       "      <th>dl_applied</th>\n",
       "      <th>winner</th>\n",
       "      <th>win_by_runs</th>\n",
       "      <th>win_by_wickets</th>\n",
       "      <th>player_of_match</th>\n",
       "      <th>venue</th>\n",
       "      <th>umpire1</th>\n",
       "      <th>umpire2</th>\n",
       "      <th>umpire3</th>\n",
       "    </tr>\n",
       "  </thead>\n",
       "  <tbody>\n",
       "    <tr>\n",
       "      <th>691</th>\n",
       "      <td>7949</td>\n",
       "      <td>2018</td>\n",
       "      <td>Pune</td>\n",
       "      <td>20/05/18</td>\n",
       "      <td>Kings XI Punjab</td>\n",
       "      <td>Chennai Super Kings</td>\n",
       "      <td>Chennai Super Kings</td>\n",
       "      <td>field</td>\n",
       "      <td>normal</td>\n",
       "      <td>0</td>\n",
       "      <td>Chennai Super Kings</td>\n",
       "      <td>0</td>\n",
       "      <td>5</td>\n",
       "      <td>L Ngidi</td>\n",
       "      <td>Maharashtra Cricket Association Stadium</td>\n",
       "      <td>Nitin Menon</td>\n",
       "      <td>Yeshwant Barde</td>\n",
       "      <td>Marais Erasmus</td>\n",
       "    </tr>\n",
       "    <tr>\n",
       "      <th>692</th>\n",
       "      <td>7950</td>\n",
       "      <td>2018</td>\n",
       "      <td>Mumbai</td>\n",
       "      <td>22/05/18</td>\n",
       "      <td>Sunrisers Hyderabad</td>\n",
       "      <td>Chennai Super Kings</td>\n",
       "      <td>Chennai Super Kings</td>\n",
       "      <td>field</td>\n",
       "      <td>normal</td>\n",
       "      <td>0</td>\n",
       "      <td>Chennai Super Kings</td>\n",
       "      <td>0</td>\n",
       "      <td>2</td>\n",
       "      <td>F du Plessis</td>\n",
       "      <td>Wankhede Stadium</td>\n",
       "      <td>Marais Erasmus</td>\n",
       "      <td>C Shamshuddin</td>\n",
       "      <td>S Ravi</td>\n",
       "    </tr>\n",
       "    <tr>\n",
       "      <th>693</th>\n",
       "      <td>7951</td>\n",
       "      <td>2018</td>\n",
       "      <td>Kolkata</td>\n",
       "      <td>23/05/18</td>\n",
       "      <td>Kolkata Knight Riders</td>\n",
       "      <td>Rajasthan Royals</td>\n",
       "      <td>Rajasthan Royals</td>\n",
       "      <td>field</td>\n",
       "      <td>normal</td>\n",
       "      <td>0</td>\n",
       "      <td>Kolkata Knight Riders</td>\n",
       "      <td>25</td>\n",
       "      <td>0</td>\n",
       "      <td>AD Russell</td>\n",
       "      <td>Eden Gardens</td>\n",
       "      <td>Nitin Menon</td>\n",
       "      <td>Anil Chaudhary</td>\n",
       "      <td>Kumar Dharmasena</td>\n",
       "    </tr>\n",
       "    <tr>\n",
       "      <th>694</th>\n",
       "      <td>7952</td>\n",
       "      <td>2018</td>\n",
       "      <td>Kolkata</td>\n",
       "      <td>25/05/18</td>\n",
       "      <td>Sunrisers Hyderabad</td>\n",
       "      <td>Kolkata Knight Riders</td>\n",
       "      <td>Kolkata Knight Riders</td>\n",
       "      <td>field</td>\n",
       "      <td>normal</td>\n",
       "      <td>0</td>\n",
       "      <td>Sunrisers Hyderabad</td>\n",
       "      <td>14</td>\n",
       "      <td>0</td>\n",
       "      <td>Rashid Khan</td>\n",
       "      <td>Eden Gardens</td>\n",
       "      <td>Nitin Menon</td>\n",
       "      <td>Kumar Dharmasena</td>\n",
       "      <td>Anil Chaudhary</td>\n",
       "    </tr>\n",
       "    <tr>\n",
       "      <th>695</th>\n",
       "      <td>7953</td>\n",
       "      <td>2018</td>\n",
       "      <td>Mumbai</td>\n",
       "      <td>27/05/18</td>\n",
       "      <td>Sunrisers Hyderabad</td>\n",
       "      <td>Chennai Super Kings</td>\n",
       "      <td>Chennai Super Kings</td>\n",
       "      <td>field</td>\n",
       "      <td>normal</td>\n",
       "      <td>0</td>\n",
       "      <td>Chennai Super Kings</td>\n",
       "      <td>0</td>\n",
       "      <td>8</td>\n",
       "      <td>SR Watson</td>\n",
       "      <td>Wankhede Stadium</td>\n",
       "      <td>Marais Erasmus</td>\n",
       "      <td>S Ravi</td>\n",
       "      <td>Nitin Menon</td>\n",
       "    </tr>\n",
       "  </tbody>\n",
       "</table>\n",
       "</div>"
      ],
      "text/plain": [
       "       id  season     city      date                  team1  \\\n",
       "691  7949    2018     Pune  20/05/18        Kings XI Punjab   \n",
       "692  7950    2018   Mumbai  22/05/18    Sunrisers Hyderabad   \n",
       "693  7951    2018  Kolkata  23/05/18  Kolkata Knight Riders   \n",
       "694  7952    2018  Kolkata  25/05/18    Sunrisers Hyderabad   \n",
       "695  7953    2018   Mumbai  27/05/18    Sunrisers Hyderabad   \n",
       "\n",
       "                     team2            toss_winner toss_decision  result  \\\n",
       "691    Chennai Super Kings    Chennai Super Kings         field  normal   \n",
       "692    Chennai Super Kings    Chennai Super Kings         field  normal   \n",
       "693       Rajasthan Royals       Rajasthan Royals         field  normal   \n",
       "694  Kolkata Knight Riders  Kolkata Knight Riders         field  normal   \n",
       "695    Chennai Super Kings    Chennai Super Kings         field  normal   \n",
       "\n",
       "     dl_applied                 winner  win_by_runs  win_by_wickets  \\\n",
       "691           0    Chennai Super Kings            0               5   \n",
       "692           0    Chennai Super Kings            0               2   \n",
       "693           0  Kolkata Knight Riders           25               0   \n",
       "694           0    Sunrisers Hyderabad           14               0   \n",
       "695           0    Chennai Super Kings            0               8   \n",
       "\n",
       "    player_of_match                                    venue         umpire1  \\\n",
       "691         L Ngidi  Maharashtra Cricket Association Stadium     Nitin Menon   \n",
       "692    F du Plessis                         Wankhede Stadium  Marais Erasmus   \n",
       "693      AD Russell                             Eden Gardens     Nitin Menon   \n",
       "694     Rashid Khan                             Eden Gardens     Nitin Menon   \n",
       "695       SR Watson                         Wankhede Stadium  Marais Erasmus   \n",
       "\n",
       "              umpire2           umpire3  \n",
       "691    Yeshwant Barde    Marais Erasmus  \n",
       "692     C Shamshuddin            S Ravi  \n",
       "693    Anil Chaudhary  Kumar Dharmasena  \n",
       "694  Kumar Dharmasena    Anil Chaudhary  \n",
       "695            S Ravi       Nitin Menon  "
      ]
     },
     "execution_count": 4,
     "metadata": {},
     "output_type": "execute_result"
    }
   ],
   "source": [
    "ipl_data.tail()"
   ]
  },
  {
   "cell_type": "markdown",
   "metadata": {},
   "source": [
    "Since the data may unknowingly have missing data in the form of `NaN`, lets cleanse the data and fill the `NaN`s with the mean using the `fillna()` function"
   ]
  },
  {
   "cell_type": "code",
   "execution_count": 5,
   "metadata": {},
   "outputs": [
    {
     "data": {
      "text/html": [
       "<div>\n",
       "<style scoped>\n",
       "    .dataframe tbody tr th:only-of-type {\n",
       "        vertical-align: middle;\n",
       "    }\n",
       "\n",
       "    .dataframe tbody tr th {\n",
       "        vertical-align: top;\n",
       "    }\n",
       "\n",
       "    .dataframe thead th {\n",
       "        text-align: right;\n",
       "    }\n",
       "</style>\n",
       "<table border=\"1\" class=\"dataframe\">\n",
       "  <thead>\n",
       "    <tr style=\"text-align: right;\">\n",
       "      <th></th>\n",
       "      <th>id</th>\n",
       "      <th>season</th>\n",
       "      <th>city</th>\n",
       "      <th>date</th>\n",
       "      <th>team1</th>\n",
       "      <th>team2</th>\n",
       "      <th>toss_winner</th>\n",
       "      <th>toss_decision</th>\n",
       "      <th>result</th>\n",
       "      <th>dl_applied</th>\n",
       "      <th>winner</th>\n",
       "      <th>win_by_runs</th>\n",
       "      <th>win_by_wickets</th>\n",
       "      <th>player_of_match</th>\n",
       "      <th>venue</th>\n",
       "      <th>umpire1</th>\n",
       "      <th>umpire2</th>\n",
       "      <th>umpire3</th>\n",
       "    </tr>\n",
       "  </thead>\n",
       "  <tbody>\n",
       "    <tr>\n",
       "      <th>0</th>\n",
       "      <td>1</td>\n",
       "      <td>2017</td>\n",
       "      <td>Hyderabad</td>\n",
       "      <td>2017-04-05</td>\n",
       "      <td>Sunrisers Hyderabad</td>\n",
       "      <td>Royal Challengers Bangalore</td>\n",
       "      <td>Royal Challengers Bangalore</td>\n",
       "      <td>field</td>\n",
       "      <td>normal</td>\n",
       "      <td>0</td>\n",
       "      <td>Sunrisers Hyderabad</td>\n",
       "      <td>35</td>\n",
       "      <td>0</td>\n",
       "      <td>Yuvraj Singh</td>\n",
       "      <td>Rajiv Gandhi International Stadium, Uppal</td>\n",
       "      <td>AY Dandekar</td>\n",
       "      <td>NJ Llong</td>\n",
       "      <td>NaN</td>\n",
       "    </tr>\n",
       "    <tr>\n",
       "      <th>1</th>\n",
       "      <td>2</td>\n",
       "      <td>2017</td>\n",
       "      <td>Pune</td>\n",
       "      <td>2017-04-06</td>\n",
       "      <td>Mumbai Indians</td>\n",
       "      <td>Rising Pune Supergiant</td>\n",
       "      <td>Rising Pune Supergiant</td>\n",
       "      <td>field</td>\n",
       "      <td>normal</td>\n",
       "      <td>0</td>\n",
       "      <td>Rising Pune Supergiant</td>\n",
       "      <td>0</td>\n",
       "      <td>7</td>\n",
       "      <td>SPD Smith</td>\n",
       "      <td>Maharashtra Cricket Association Stadium</td>\n",
       "      <td>A Nand Kishore</td>\n",
       "      <td>S Ravi</td>\n",
       "      <td>NaN</td>\n",
       "    </tr>\n",
       "    <tr>\n",
       "      <th>2</th>\n",
       "      <td>3</td>\n",
       "      <td>2017</td>\n",
       "      <td>Rajkot</td>\n",
       "      <td>2017-04-07</td>\n",
       "      <td>Gujarat Lions</td>\n",
       "      <td>Kolkata Knight Riders</td>\n",
       "      <td>Kolkata Knight Riders</td>\n",
       "      <td>field</td>\n",
       "      <td>normal</td>\n",
       "      <td>0</td>\n",
       "      <td>Kolkata Knight Riders</td>\n",
       "      <td>0</td>\n",
       "      <td>10</td>\n",
       "      <td>CA Lynn</td>\n",
       "      <td>Saurashtra Cricket Association Stadium</td>\n",
       "      <td>Nitin Menon</td>\n",
       "      <td>CK Nandan</td>\n",
       "      <td>NaN</td>\n",
       "    </tr>\n",
       "    <tr>\n",
       "      <th>3</th>\n",
       "      <td>4</td>\n",
       "      <td>2017</td>\n",
       "      <td>Indore</td>\n",
       "      <td>2017-04-08</td>\n",
       "      <td>Rising Pune Supergiant</td>\n",
       "      <td>Kings XI Punjab</td>\n",
       "      <td>Kings XI Punjab</td>\n",
       "      <td>field</td>\n",
       "      <td>normal</td>\n",
       "      <td>0</td>\n",
       "      <td>Kings XI Punjab</td>\n",
       "      <td>0</td>\n",
       "      <td>6</td>\n",
       "      <td>GJ Maxwell</td>\n",
       "      <td>Holkar Cricket Stadium</td>\n",
       "      <td>AK Chaudhary</td>\n",
       "      <td>C Shamshuddin</td>\n",
       "      <td>NaN</td>\n",
       "    </tr>\n",
       "    <tr>\n",
       "      <th>4</th>\n",
       "      <td>5</td>\n",
       "      <td>2017</td>\n",
       "      <td>Bangalore</td>\n",
       "      <td>2017-04-08</td>\n",
       "      <td>Royal Challengers Bangalore</td>\n",
       "      <td>Delhi Daredevils</td>\n",
       "      <td>Royal Challengers Bangalore</td>\n",
       "      <td>bat</td>\n",
       "      <td>normal</td>\n",
       "      <td>0</td>\n",
       "      <td>Royal Challengers Bangalore</td>\n",
       "      <td>15</td>\n",
       "      <td>0</td>\n",
       "      <td>KM Jadhav</td>\n",
       "      <td>M Chinnaswamy Stadium</td>\n",
       "      <td>NaN</td>\n",
       "      <td>NaN</td>\n",
       "      <td>NaN</td>\n",
       "    </tr>\n",
       "    <tr>\n",
       "      <th>...</th>\n",
       "      <td>...</td>\n",
       "      <td>...</td>\n",
       "      <td>...</td>\n",
       "      <td>...</td>\n",
       "      <td>...</td>\n",
       "      <td>...</td>\n",
       "      <td>...</td>\n",
       "      <td>...</td>\n",
       "      <td>...</td>\n",
       "      <td>...</td>\n",
       "      <td>...</td>\n",
       "      <td>...</td>\n",
       "      <td>...</td>\n",
       "      <td>...</td>\n",
       "      <td>...</td>\n",
       "      <td>...</td>\n",
       "      <td>...</td>\n",
       "      <td>...</td>\n",
       "    </tr>\n",
       "    <tr>\n",
       "      <th>691</th>\n",
       "      <td>7949</td>\n",
       "      <td>2018</td>\n",
       "      <td>Pune</td>\n",
       "      <td>20/05/18</td>\n",
       "      <td>Kings XI Punjab</td>\n",
       "      <td>Chennai Super Kings</td>\n",
       "      <td>Chennai Super Kings</td>\n",
       "      <td>field</td>\n",
       "      <td>normal</td>\n",
       "      <td>0</td>\n",
       "      <td>Chennai Super Kings</td>\n",
       "      <td>0</td>\n",
       "      <td>5</td>\n",
       "      <td>L Ngidi</td>\n",
       "      <td>Maharashtra Cricket Association Stadium</td>\n",
       "      <td>Nitin Menon</td>\n",
       "      <td>Yeshwant Barde</td>\n",
       "      <td>Marais Erasmus</td>\n",
       "    </tr>\n",
       "    <tr>\n",
       "      <th>692</th>\n",
       "      <td>7950</td>\n",
       "      <td>2018</td>\n",
       "      <td>Mumbai</td>\n",
       "      <td>22/05/18</td>\n",
       "      <td>Sunrisers Hyderabad</td>\n",
       "      <td>Chennai Super Kings</td>\n",
       "      <td>Chennai Super Kings</td>\n",
       "      <td>field</td>\n",
       "      <td>normal</td>\n",
       "      <td>0</td>\n",
       "      <td>Chennai Super Kings</td>\n",
       "      <td>0</td>\n",
       "      <td>2</td>\n",
       "      <td>F du Plessis</td>\n",
       "      <td>Wankhede Stadium</td>\n",
       "      <td>Marais Erasmus</td>\n",
       "      <td>C Shamshuddin</td>\n",
       "      <td>S Ravi</td>\n",
       "    </tr>\n",
       "    <tr>\n",
       "      <th>693</th>\n",
       "      <td>7951</td>\n",
       "      <td>2018</td>\n",
       "      <td>Kolkata</td>\n",
       "      <td>23/05/18</td>\n",
       "      <td>Kolkata Knight Riders</td>\n",
       "      <td>Rajasthan Royals</td>\n",
       "      <td>Rajasthan Royals</td>\n",
       "      <td>field</td>\n",
       "      <td>normal</td>\n",
       "      <td>0</td>\n",
       "      <td>Kolkata Knight Riders</td>\n",
       "      <td>25</td>\n",
       "      <td>0</td>\n",
       "      <td>AD Russell</td>\n",
       "      <td>Eden Gardens</td>\n",
       "      <td>Nitin Menon</td>\n",
       "      <td>Anil Chaudhary</td>\n",
       "      <td>Kumar Dharmasena</td>\n",
       "    </tr>\n",
       "    <tr>\n",
       "      <th>694</th>\n",
       "      <td>7952</td>\n",
       "      <td>2018</td>\n",
       "      <td>Kolkata</td>\n",
       "      <td>25/05/18</td>\n",
       "      <td>Sunrisers Hyderabad</td>\n",
       "      <td>Kolkata Knight Riders</td>\n",
       "      <td>Kolkata Knight Riders</td>\n",
       "      <td>field</td>\n",
       "      <td>normal</td>\n",
       "      <td>0</td>\n",
       "      <td>Sunrisers Hyderabad</td>\n",
       "      <td>14</td>\n",
       "      <td>0</td>\n",
       "      <td>Rashid Khan</td>\n",
       "      <td>Eden Gardens</td>\n",
       "      <td>Nitin Menon</td>\n",
       "      <td>Kumar Dharmasena</td>\n",
       "      <td>Anil Chaudhary</td>\n",
       "    </tr>\n",
       "    <tr>\n",
       "      <th>695</th>\n",
       "      <td>7953</td>\n",
       "      <td>2018</td>\n",
       "      <td>Mumbai</td>\n",
       "      <td>27/05/18</td>\n",
       "      <td>Sunrisers Hyderabad</td>\n",
       "      <td>Chennai Super Kings</td>\n",
       "      <td>Chennai Super Kings</td>\n",
       "      <td>field</td>\n",
       "      <td>normal</td>\n",
       "      <td>0</td>\n",
       "      <td>Chennai Super Kings</td>\n",
       "      <td>0</td>\n",
       "      <td>8</td>\n",
       "      <td>SR Watson</td>\n",
       "      <td>Wankhede Stadium</td>\n",
       "      <td>Marais Erasmus</td>\n",
       "      <td>S Ravi</td>\n",
       "      <td>Nitin Menon</td>\n",
       "    </tr>\n",
       "  </tbody>\n",
       "</table>\n",
       "<p>696 rows × 18 columns</p>\n",
       "</div>"
      ],
      "text/plain": [
       "       id  season       city        date                        team1  \\\n",
       "0       1    2017  Hyderabad  2017-04-05          Sunrisers Hyderabad   \n",
       "1       2    2017       Pune  2017-04-06               Mumbai Indians   \n",
       "2       3    2017     Rajkot  2017-04-07                Gujarat Lions   \n",
       "3       4    2017     Indore  2017-04-08       Rising Pune Supergiant   \n",
       "4       5    2017  Bangalore  2017-04-08  Royal Challengers Bangalore   \n",
       "..    ...     ...        ...         ...                          ...   \n",
       "691  7949    2018       Pune    20/05/18              Kings XI Punjab   \n",
       "692  7950    2018     Mumbai    22/05/18          Sunrisers Hyderabad   \n",
       "693  7951    2018    Kolkata    23/05/18        Kolkata Knight Riders   \n",
       "694  7952    2018    Kolkata    25/05/18          Sunrisers Hyderabad   \n",
       "695  7953    2018     Mumbai    27/05/18          Sunrisers Hyderabad   \n",
       "\n",
       "                           team2                  toss_winner toss_decision  \\\n",
       "0    Royal Challengers Bangalore  Royal Challengers Bangalore         field   \n",
       "1         Rising Pune Supergiant       Rising Pune Supergiant         field   \n",
       "2          Kolkata Knight Riders        Kolkata Knight Riders         field   \n",
       "3                Kings XI Punjab              Kings XI Punjab         field   \n",
       "4               Delhi Daredevils  Royal Challengers Bangalore           bat   \n",
       "..                           ...                          ...           ...   \n",
       "691          Chennai Super Kings          Chennai Super Kings         field   \n",
       "692          Chennai Super Kings          Chennai Super Kings         field   \n",
       "693             Rajasthan Royals             Rajasthan Royals         field   \n",
       "694        Kolkata Knight Riders        Kolkata Knight Riders         field   \n",
       "695          Chennai Super Kings          Chennai Super Kings         field   \n",
       "\n",
       "     result  dl_applied                       winner  win_by_runs  \\\n",
       "0    normal           0          Sunrisers Hyderabad           35   \n",
       "1    normal           0       Rising Pune Supergiant            0   \n",
       "2    normal           0        Kolkata Knight Riders            0   \n",
       "3    normal           0              Kings XI Punjab            0   \n",
       "4    normal           0  Royal Challengers Bangalore           15   \n",
       "..      ...         ...                          ...          ...   \n",
       "691  normal           0          Chennai Super Kings            0   \n",
       "692  normal           0          Chennai Super Kings            0   \n",
       "693  normal           0        Kolkata Knight Riders           25   \n",
       "694  normal           0          Sunrisers Hyderabad           14   \n",
       "695  normal           0          Chennai Super Kings            0   \n",
       "\n",
       "     win_by_wickets player_of_match  \\\n",
       "0                 0    Yuvraj Singh   \n",
       "1                 7       SPD Smith   \n",
       "2                10         CA Lynn   \n",
       "3                 6      GJ Maxwell   \n",
       "4                 0       KM Jadhav   \n",
       "..              ...             ...   \n",
       "691               5         L Ngidi   \n",
       "692               2    F du Plessis   \n",
       "693               0      AD Russell   \n",
       "694               0     Rashid Khan   \n",
       "695               8       SR Watson   \n",
       "\n",
       "                                         venue         umpire1  \\\n",
       "0    Rajiv Gandhi International Stadium, Uppal     AY Dandekar   \n",
       "1      Maharashtra Cricket Association Stadium  A Nand Kishore   \n",
       "2       Saurashtra Cricket Association Stadium     Nitin Menon   \n",
       "3                       Holkar Cricket Stadium    AK Chaudhary   \n",
       "4                        M Chinnaswamy Stadium             NaN   \n",
       "..                                         ...             ...   \n",
       "691    Maharashtra Cricket Association Stadium     Nitin Menon   \n",
       "692                           Wankhede Stadium  Marais Erasmus   \n",
       "693                               Eden Gardens     Nitin Menon   \n",
       "694                               Eden Gardens     Nitin Menon   \n",
       "695                           Wankhede Stadium  Marais Erasmus   \n",
       "\n",
       "              umpire2           umpire3  \n",
       "0            NJ Llong               NaN  \n",
       "1              S Ravi               NaN  \n",
       "2           CK Nandan               NaN  \n",
       "3       C Shamshuddin               NaN  \n",
       "4                 NaN               NaN  \n",
       "..                ...               ...  \n",
       "691    Yeshwant Barde    Marais Erasmus  \n",
       "692     C Shamshuddin            S Ravi  \n",
       "693    Anil Chaudhary  Kumar Dharmasena  \n",
       "694  Kumar Dharmasena    Anil Chaudhary  \n",
       "695            S Ravi       Nitin Menon  \n",
       "\n",
       "[696 rows x 18 columns]"
      ]
     },
     "execution_count": 5,
     "metadata": {},
     "output_type": "execute_result"
    }
   ],
   "source": [
    "ipl_data.fillna(value={'win_by_wickets': ipl_data.win_by_wickets.mean()}, inplace=True)\n",
    "ipl_data"
   ]
  },
  {
   "cell_type": "markdown",
   "metadata": {},
   "source": [
    "Since, a team can never win over any other team in a cricket match by `0 wickets`, hence we only consider values greater than 0 in `win_by_wickets` column. \n",
    "\n",
    "We store this data in `win_by_wickets_data` "
   ]
  },
  {
   "cell_type": "code",
   "execution_count": 6,
   "metadata": {},
   "outputs": [
    {
     "data": {
      "text/plain": [
       "1       7\n",
       "2      10\n",
       "3       6\n",
       "5       9\n",
       "6       4\n",
       "       ..\n",
       "684     6\n",
       "689     5\n",
       "691     5\n",
       "692     2\n",
       "695     8\n",
       "Name: win_by_wickets, Length: 371, dtype: int64"
      ]
     },
     "execution_count": 6,
     "metadata": {},
     "output_type": "execute_result"
    }
   ],
   "source": [
    "win_by_wickets_data = ipl_data[ipl_data.win_by_wickets > 0].win_by_wickets  #removed zero\n",
    "win_by_wickets_data"
   ]
  },
  {
   "cell_type": "markdown",
   "metadata": {},
   "source": [
    "Now, lets just simply plot a histogram of the data obtained for our reference"
   ]
  },
  {
   "cell_type": "code",
   "execution_count": 7,
   "metadata": {},
   "outputs": [
    {
     "data": {
      "text/plain": [
       "Text(0.5, 1.0, 'Histogram')"
      ]
     },
     "execution_count": 7,
     "metadata": {},
     "output_type": "execute_result"
    },
    {
     "data": {
      "image/png": "[encoded data removed]",
      "text/plain": [
       "<Figure size 432x288 with 1 Axes>"
      ]
     },
     "metadata": {
      "needs_background": "light"
     },
     "output_type": "display_data"
    }
   ],
   "source": [
    "win_by_wickets_data.hist()\n",
    "plt.title(\"Histogram\")"
   ]
  },
  {
   "cell_type": "markdown",
   "metadata": {},
   "source": [
    "As we could figure out from the histogram's initial observation, the data has a **normal** distribution<br>\n",
    "\n",
    "Lets verify the same by modelling different distributions on our data and cross verifying the graphs obtained"
   ]
  },
  {
   "cell_type": "markdown",
   "metadata": {},
   "source": [
    "Before that, lets first calculate the mean in `ipl_data_mean` using the `mean()` function"
   ]
  },
  {
   "cell_type": "code",
   "execution_count": 8,
   "metadata": {},
   "outputs": [
    {
     "data": {
      "text/plain": [
       "6.283018867924528"
      ]
     },
     "execution_count": 8,
     "metadata": {},
     "output_type": "execute_result"
    }
   ],
   "source": [
    "ipl_data_mean = win_by_wickets_data.mean()\n",
    "ipl_data_mean"
   ]
  },
  {
   "cell_type": "markdown",
   "metadata": {},
   "source": [
    "Now, lets calculate the variance in `ipl_data_var` by using `var()` function"
   ]
  },
  {
   "cell_type": "code",
   "execution_count": 9,
   "metadata": {},
   "outputs": [
    {
     "data": {
      "text/plain": [
       "3.3764405915349354"
      ]
     },
     "execution_count": 9,
     "metadata": {},
     "output_type": "execute_result"
    }
   ],
   "source": [
    "ipl_data_var = win_by_wickets_data.var()\n",
    "ipl_data_var"
   ]
  },
  {
   "cell_type": "markdown",
   "metadata": {},
   "source": [
    "Let us also calculate the standard deviation in `ipl_data_sd` by using the `sqrt()` function from `math` library"
   ]
  },
  {
   "cell_type": "code",
   "execution_count": 10,
   "metadata": {},
   "outputs": [
    {
     "data": {
      "text/plain": [
       "1.8375093446115955"
      ]
     },
     "execution_count": 10,
     "metadata": {},
     "output_type": "execute_result"
    }
   ],
   "source": [
    "ipl_data_sd = math.sqrt(ipl_data_var)\n",
    "ipl_data_sd"
   ]
  },
  {
   "cell_type": "markdown",
   "metadata": {},
   "source": [
    "## Normal Distribution"
   ]
  },
  {
   "cell_type": "markdown",
   "metadata": {},
   "source": [
    "Lets use **method of moments** to assign the mean and variance to their theoretical counterparts.\n",
    "\n",
    "We know that, for a Normal distribution 99.7% of all the observations will appear within plus or minus 3 standard deviation of the mean. Hence the lower limit becomes **(mean - 3\\*sd)** and the upper limit becomes **(mean + 3\\*sd)**\n",
    "\n",
    "Also, for a normal distribution, the first moment and the second moment are equal to, \n",
    "\n",
    "<br>\n",
    "<div>  \n",
    "$$ \\ First Moment = \\bar{X} $$\n",
    "$$ \\ Second Moment = {S^2} $$\n",
    "</div>\n",
    "\n",
    "(where $\\bar{X}$ is the mean, while $S^2$ is the variance)"
   ]
  },
  {
   "cell_type": "markdown",
   "metadata": {},
   "source": [
    "Now using the `norm.pdf` function from `scipy.stats.distributions`, we plot the distribution implied by the first and second moment "
   ]
  },
  {
   "cell_type": "code",
   "execution_count": 11,
   "metadata": {},
   "outputs": [
    {
     "data": {
      "text/plain": [
       "Text(0.5, 1.0, 'Normal Distribution')"
      ]
     },
     "execution_count": 11,
     "metadata": {},
     "output_type": "execute_result"
    },
    {
     "data": {
      "image/png": "[encoded data removed]",
      "text/plain": [
       "<Figure size 432x288 with 1 Axes>"
      ]
     },
     "metadata": {
      "needs_background": "light"
     },
     "output_type": "display_data"
    }
   ],
   "source": [
    "from scipy.stats.distributions import norm\n",
    "\n",
    "win_by_wickets_data.hist(density=True, bins=10)\n",
    "plt.plot(np.linspace(ipl_data_mean - 3*ipl_data_sd, ipl_data_mean + 3*ipl_data_sd),\n",
    "         norm.pdf(np.linspace(ipl_data_mean - 3*ipl_data_sd, ipl_data_mean + 3*ipl_data_sd), ipl_data_mean, ipl_data_sd),\n",
    "         linewidth = 2, color = 'r')\n",
    "plt.title(\"Normal Distribution\")"
   ]
  },
  {
   "cell_type": "markdown",
   "metadata": {},
   "source": [
    "As seen from the plot above, the distribution plot obtained from the method of moments **perfectly fits** over our histogram.\n",
    "\n",
    "**Thus, we conclude the above distribution is *a Normal Distribution*.**"
   ]
  },
  {
   "cell_type": "markdown",
   "metadata": {},
   "source": [
    "## Now we also check our data for other PDFs using the Method of Moments"
   ]
  },
  {
   "cell_type": "markdown",
   "metadata": {},
   "source": [
    "### Gamma Distribution"
   ]
  },
  {
   "cell_type": "markdown",
   "metadata": {},
   "source": [
    "Lets use **method of moments** to assign ***mean*** and ***variance*** to their **theoretical counterparts**\n",
    "\n",
    "For gamma distribution, the mean and variance equals:\n",
    "\n",
    "<br />\n",
    "<div>  \n",
    "$$ \\hat{\\mu} = \\bar{X} = \\alpha \\beta $$\n",
    "$$ \\hat{\\sigma}^2 = S^2 = \\alpha \\beta^2 $$\n",
    "</div>"
   ]
  },
  {
   "cell_type": "markdown",
   "metadata": {},
   "source": [
    "Solving for these parameters,\n",
    "\n",
    "<br />\n",
    "<div>  \n",
    "$$ \\alpha = \\frac{\\bar{X}^2}{S^2}, \\, \\beta = \\frac{S^2}{\\bar{X}} $$\n",
    "</div>\n",
    "\n",
    "(where $\\bar{X}$ is the mean, while $S^2$ is the variance)"
   ]
  },
  {
   "cell_type": "markdown",
   "metadata": {},
   "source": [
    "Now, lets calculate the values of the `alpha` and `beta` using the mean and variance values obtained above"
   ]
  },
  {
   "cell_type": "code",
   "execution_count": 12,
   "metadata": {},
   "outputs": [
    {
     "data": {
      "text/plain": [
       "(11.691698705929138, 0.5373914454995543)"
      ]
     },
     "execution_count": 12,
     "metadata": {},
     "output_type": "execute_result"
    }
   ],
   "source": [
    "alpha_mom = ipl_data_mean**2/ipl_data_var\n",
    "beta_mom = ipl_data_var/ipl_data_mean\n",
    "alpha_mom, beta_mom"
   ]
  },
  {
   "cell_type": "markdown",
   "metadata": {},
   "source": [
    "Now using the `gamma.pdf` function from `scipy.stats.distributions`, we plot the distributions implied by the calculated alpha and beta "
   ]
  },
  {
   "cell_type": "code",
   "execution_count": 13,
   "metadata": {
    "scrolled": true
   },
   "outputs": [
    {
     "data": {
      "text/plain": [
       "Text(0.5, 1.0, 'Gamma Distribution')"
      ]
     },
     "execution_count": 13,
     "metadata": {},
     "output_type": "execute_result"
    },
    {
     "data": {
      "image/png": "[encoded data removed]",
      "text/plain": [
       "<Figure size 432x288 with 1 Axes>"
      ]
     },
     "metadata": {
      "needs_background": "light"
     },
     "output_type": "display_data"
    }
   ],
   "source": [
    "from scipy.stats.distributions import gamma\n",
    "\n",
    "win_by_wickets_data.hist(density=True, bins=10)\n",
    "plt.plot(np.linspace(0, 20), gamma.pdf(np.linspace(0, 20), alpha_mom, beta_mom))\n",
    "plt.title(\"Gamma Distribution\")"
   ]
  },
  {
   "cell_type": "markdown",
   "metadata": {},
   "source": [
    "As seen from the plot above, the gamma distribution plot does not perfectly fit over our histogram.\n",
    "\n",
    "**Thus, we conclude the above distribution is *not a Gamma Distribution*.**"
   ]
  },
  {
   "cell_type": "markdown",
   "metadata": {},
   "source": [
    "### Exponential Distribution"
   ]
  },
  {
   "cell_type": "markdown",
   "metadata": {},
   "source": [
    "Lets use **method of moments** again to find the necessary parameters\n",
    "\n",
    "For an Exponential Distribution, the first moment is equal to,\n",
    "\n",
    "<br>\n",
    "<div>  \n",
    "$$ \\ First Moment = \\bar{X} $$\n",
    "</div>\n",
    "\n",
    "(where $\\bar{X}$ is the mean)\n",
    "\n",
    "Also, in order to generate samples, we know that an Exponential Distribution starts at the lowest value in the dataset which we will obtain using the `min()` function on `win_by_wickets_data` and we generate samples upto the 10th wicket using the `max()` function"
   ]
  },
  {
   "cell_type": "markdown",
   "metadata": {},
   "source": [
    "Now using the `expon.pdf` function from `scipy.stats.distributions`, we plot the distribution implied by the first moment "
   ]
  },
  {
   "cell_type": "code",
   "execution_count": 14,
   "metadata": {},
   "outputs": [
    {
     "data": {
      "text/plain": [
       "Text(0.5, 1.0, 'Exponential Distribution')"
      ]
     },
     "execution_count": 14,
     "metadata": {},
     "output_type": "execute_result"
    },
    {
     "data": {
      "image/png": "[encoded data removed]",
      "text/plain": [
       "<Figure size 432x288 with 1 Axes>"
      ]
     },
     "metadata": {
      "needs_background": "light"
     },
     "output_type": "display_data"
    }
   ],
   "source": [
    "from scipy.stats.distributions import expon\n",
    "\n",
    "win_by_wickets_data.hist(density=True, bins=10)\n",
    "plt.plot(np.linspace(win_by_wickets_data.min(), win_by_wickets_data.max()), \n",
    "         expon.pdf(np.linspace(win_by_wickets_data.min(), win_by_wickets_data.max()), \n",
    "                   win_by_wickets_data.min(), ipl_data_sd))\n",
    "\n",
    "plt.title(\"Exponential Distribution\")"
   ]
  },
  {
   "cell_type": "markdown",
   "metadata": {},
   "source": [
    "As seen from the exponential distribution plot above, the distribution plot does not perfectly fit over our histogram.\n",
    "\n",
    "**Thus, we conclude the above distribution is *not an Exponential Distribution*.**"
   ]
  },
  {
   "cell_type": "markdown",
   "metadata": {},
   "source": [
    "### Uniform Distribution"
   ]
  },
  {
   "cell_type": "markdown",
   "metadata": {},
   "source": [
    "Lets use **method of moments** to find the necessary parameters\n",
    "\n",
    "For Uniform Distribution, the total area under the plot is equal to\n",
    "\n",
    "<br>\n",
    "<div>\n",
    "$$ (b-a) * \\frac{1}{(b-a)} = 1 $$\n",
    "</div>\n",
    "\n",
    "(where $b$ is the maximum value in the data and $a$ is the minimum value in the data)\n",
    "\n",
    "Thus, the first two moments are\n",
    "\n",
    "<br>\n",
    "<div>  \n",
    "$$ \\ First Moment = a $$\n",
    "$$ \\ Second Moment = b $$\n",
    "</div>\n",
    "\n",
    "(where $b$ is the maximum value in the data and $a$ is the minimum value in the data)\n",
    "\n",
    "Also, in order to generate samples, we know that Uniform Distribution starts at the minimum value in the dataset which we will obtain using the `min()` function on `win_by_wickets_data` and we generate samples upto the 10th wicket using the `max()` function. But for better visibility of graph we will obtain the distribution plot from +/-2 limits"
   ]
  },
  {
   "cell_type": "markdown",
   "metadata": {},
   "source": [
    "Now using the `uniform.pdf` function from `scipy.stats.distributions`, we plot the distribution implied by the first and second moment "
   ]
  },
  {
   "cell_type": "code",
   "execution_count": 15,
   "metadata": {},
   "outputs": [
    {
     "data": {
      "text/plain": [
       "Text(0.5, 1.0, 'Uniform Distribution')"
      ]
     },
     "execution_count": 15,
     "metadata": {},
     "output_type": "execute_result"
    },
    {
     "data": {
      "image/png": "[encoded data removed]",
      "text/plain": [
       "<Figure size 432x288 with 1 Axes>"
      ]
     },
     "metadata": {
      "needs_background": "light"
     },
     "output_type": "display_data"
    }
   ],
   "source": [
    "from scipy.stats.distributions import uniform\n",
    "\n",
    "win_by_wickets_data.hist(density=True, bins=10)\n",
    "plt.plot(np.linspace(win_by_wickets_data.min() -2 , win_by_wickets_data.max() +2),\n",
    "         uniform.pdf(np.linspace(win_by_wickets_data.min() -2, win_by_wickets_data.max() +2), \n",
    "                     win_by_wickets_data.min(), win_by_wickets_data.max()))\n",
    "\n",
    "plt.title(\"Uniform Distribution\")"
   ]
  },
  {
   "cell_type": "markdown",
   "metadata": {},
   "source": [
    "As seen from the uniform distribution plot above, the distribution plot again does not perfectly fit over our histogram.\n",
    "\n",
    "**Thus, we conclude the distribution is *not a Uniform Distribution*.**"
   ]
  },
  {
   "cell_type": "markdown",
   "metadata": {},
   "source": [
    "## Thus, we can finally conclude after modelling our data to fit on different PDFs that, the chosen data has a Normal Distribution"
   ]
  }
 ],
 "metadata": {
  "kernelspec": {
   "display_name": "Python 3 (ipykernel)",
   "language": "python",
   "name": "python3"
  },
  "language_info": {
   "codemirror_mode": {
    "name": "ipython",
    "version": 3
   },
   "file_extension": ".py",
   "mimetype": "text/x-python",
   "name": "python",
   "nbconvert_exporter": "python",
   "pygments_lexer": "ipython3",
   "version": "3.9.12"
  }
 },
 "nbformat": 4,
 "nbformat_minor": 2
}
